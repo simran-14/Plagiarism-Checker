{
 "cells": [
  {
   "cell_type": "markdown",
   "id": "d986eceb",
   "metadata": {},
   "source": [
    "# Plagiarism Checker\n"
   ]
  },
  {
   "cell_type": "code",
   "execution_count": 1,
   "id": "910ad52d",
   "metadata": {},
   "outputs": [],
   "source": [
    "import tkinter as tk\n",
    "from tkinter import filedialog\n",
    "from difflib import SequenceMatcher\n",
    "\n",
    "def clean_text(text):\n",
    "    # Function to clean the text by removing unwanted characters, extra spaces, etc.\n",
    "    text = text.lower()  # Convert to lowercase\n",
    "    text = ''.join(e for e in text if e.isalnum() or e.isspace())  # Remove non-alphanumeric characters\n",
    "    text = ' '.join(text.split())  # Remove extra spaces\n",
    "    return text\n",
    "\n",
    "def compare_text():\n",
    "    # Get the text from the text entry widgets\n",
    "    file1_text = file1_text_area.get(\"1.0\",'end-1c')\n",
    "    file2_text = file2_text_area.get(\"1.0\",'end-1c')\n",
    "\n",
    "    # Clean the text of the two entries\n",
    "    file1_text = clean_text(file1_text)\n",
    "    file2_text = clean_text(file2_text)\n",
    "\n",
    "    # Calculate the similarity between the two texts using SequenceMatcher\n",
    "    if len(file1_text) == 0 or len(file2_text) == 0:\n",
    "        result_label.config(text=\"Error: One or both text entries are empty.\")\n",
    "    else:\n",
    "        similarity = SequenceMatcher(None, file1_text, file2_text).ratio() * 100\n",
    "\n",
    "        # Update the result label with the similarity percentage and color code based on level of similarity\n",
    "        if similarity < 30:\n",
    "            result_label.config(text=f\"Similarity: {similarity:.2f}%\", bg=\"#a7c957\")\n",
    "        elif similarity >= 30 and similarity <= 60:\n",
    "            result_label.config(text=f\"Similarity: {similarity:.2f}%\", bg=\"#f77f00\")\n",
    "        else:\n",
    "            result_label.config(text=f\"Similarity: {similarity:.2f}%\", bg=\"#c9184a\")\n",
    "\n",
    "# Create the main window\n",
    "root = tk.Tk()\n",
    "root.title(\"Plagiarism Checker\")\n",
    "root.configure(bg=\"#D3D3D3\")  # Changed background color to light gray\n",
    "\n",
    "# Create labels and text entry widgets for the tkinter window\n",
    "title_label = tk.Label(root, text=\"Plagiarism Checker\", font=(\"Arial\", 28), fg=\"#FFFFFF\", bg=\"#4B0082\")\n",
    "title_label.grid(row=0, column=0, columnspan=6, pady=(50, 20))\n",
    "\n",
    "file1_label = tk.Label(root, text=\"Paste Text 1:\", font='Arial 16 bold', fg=\"#000000\", bg=\"#D3D3D3\")\n",
    "file1_label.grid(row=1, column=0, pady=25, columnspan=2)\n",
    "\n",
    "file1_text_area = tk.Text(root, width=50, height=10)\n",
    "file1_text_area.grid(row=2, column=0, padx=50, pady=50, columnspan=2)\n",
    "\n",
    "file2_label = tk.Label(root, text=\"Paste Text 2:\", font='Arial 16 bold', fg=\"#000000\", bg=\"#D3D3D3\")\n",
    "file2_label.grid(row=1, column=3, pady=25, columnspan=2)\n",
    "\n",
    "file2_text_area = tk.Text(root, width=50, height=10)\n",
    "file2_text_area.grid(row=2, column=3, padx=50, pady=50, columnspan=2)\n",
    "\n",
    "compare_button = tk.Button(root, text=\"Compare Text\", command=compare_text, font=(\"Arial\", 14), bg=\"#4B0082\", fg=\"white\")\n",
    "compare_button.grid(row=3, column=0, columnspan=6, pady=20)\n",
    "\n",
    "result_label = tk.Label(root, text=\" \", font='Arial 20 bold', bg='red')\n",
    "result_label.grid(row=4, column=0, columnspan=6, pady=20)\n",
    "\n",
    "# Run the program\n",
    "root.mainloop()\n"
   ]
  },
  {
   "cell_type": "code",
   "execution_count": null,
   "id": "c2c3c5bf",
   "metadata": {},
   "outputs": [],
   "source": []
  }
 ],
 "metadata": {
  "kernelspec": {
   "display_name": "Python 3 (ipykernel)",
   "language": "python",
   "name": "python3"
  },
  "language_info": {
   "codemirror_mode": {
    "name": "ipython",
    "version": 3
   },
   "file_extension": ".py",
   "mimetype": "text/x-python",
   "name": "python",
   "nbconvert_exporter": "python",
   "pygments_lexer": "ipython3",
   "version": "3.11.7"
  }
 },
 "nbformat": 4,
 "nbformat_minor": 5
}
